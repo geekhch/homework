{
 "cells": [
  {
   "cell_type": "code",
   "execution_count": 11,
   "metadata": {},
   "outputs": [
    {
     "name": "stdout",
     "output_type": "stream",
     "text": [
      "put in:4 6 6\n",
      "28.0\n"
     ]
    }
   ],
   "source": [
    "x = input(\"put in:\")\n",
    "\n",
    "[x,y,z] = [int(x)for x in x.split(' ')]\n",
    "\n",
    "[m1, m2, m3] = [x*y/z, x*z/y,y*z/x]\n",
    "\n",
    "sum =4 * (m1**0.5 + m2 **0.5 + m3**0.5)\n",
    "\n",
    "print(int(sum))"
   ]
  }
 ],
 "metadata": {
  "kernelspec": {
   "display_name": "Python 3",
   "language": "python",
   "name": "python3"
  },
  "language_info": {
   "codemirror_mode": {
    "name": "ipython",
    "version": 3
   },
   "file_extension": ".py",
   "mimetype": "text/x-python",
   "name": "python",
   "nbconvert_exporter": "python",
   "pygments_lexer": "ipython3",
   "version": "3.6.4"
  }
 },
 "nbformat": 4,
 "nbformat_minor": 2
}
